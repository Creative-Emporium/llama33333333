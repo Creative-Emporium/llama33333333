{
 "cells": [
  {
   "cell_type": "code",
   "execution_count": 5,
   "metadata": {},
   "outputs": [
    {
     "data": {
      "text/plain": [
       "<__main__.NoiseDataset at 0x73d846f0fb50>"
      ]
     },
     "execution_count": 5,
     "metadata": {},
     "output_type": "execute_result"
    }
   ],
   "source": [
    "import torch\n",
    "\n",
    "\n",
    "class NoiseDataset (torch.utils.data.Dataset):\n",
    "\tdef __init__(self, size, shape, std=1, device='cuda'):\n",
    "\t\tself.size = size\n",
    "\t\tself.shape = shape\n",
    "\t\tself.std = std\n",
    "\t\tself.device = device\n",
    "\n",
    "\tdef __len__(self):\n",
    "\t\treturn self.size\n",
    "\n",
    "\tdef __getitem__(self, idx):\n",
    "\t\tnoise = torch.randn(*self.shape) * self.std\n",
    "\t\treturn noise.to(self.device)\n",
    "\n",
    "\n",
    "ds = NoiseDataset(size=1000, shape=(512, 4096))\n",
    "ds"
   ]
  },
  {
   "cell_type": "code",
   "execution_count": 6,
   "metadata": {},
   "outputs": [
    {
     "data": {
      "text/plain": [
       "<torch.utils.data.dataloader.DataLoader at 0x73d846f0f8b0>"
      ]
     },
     "execution_count": 6,
     "metadata": {},
     "output_type": "execute_result"
    }
   ],
   "source": [
    "data = torch.utils.data.DataLoader(\n",
    "\tds,\n",
    "\tbatch_size=4,\n",
    "\tshuffle=True,\n",
    ")\n",
    "data"
   ]
  },
  {
   "cell_type": "code",
   "execution_count": 7,
   "metadata": {},
   "outputs": [
    {
     "data": {
      "text/plain": [
       "tensor([[[-0.3411,  0.9835, -0.2393,  ...,  0.9180, -0.5577, -0.6086],\n",
       "         [-0.7150,  1.4406, -0.5242,  ...,  1.1493, -1.6372, -1.2079],\n",
       "         [-0.4591, -0.3630,  1.7206,  ...,  1.5275,  0.9712, -0.5197],\n",
       "         ...,\n",
       "         [-0.2820,  2.0560,  0.9787,  ...,  0.3753, -0.4601, -0.7077],\n",
       "         [-1.6767, -1.1489,  0.3464,  ..., -0.3847,  0.3302, -0.3685],\n",
       "         [-0.4421, -0.4576,  1.1556,  ..., -0.0059,  2.2104,  0.3513]],\n",
       "\n",
       "        [[ 0.9089, -1.1178, -0.8727,  ...,  0.1499,  0.2312,  0.1143],\n",
       "         [ 0.8177, -1.2289,  1.6825,  ...,  3.0132, -0.5263,  0.5074],\n",
       "         [-0.0607,  0.2090,  0.8566,  ..., -2.0050, -0.6780,  0.2220],\n",
       "         ...,\n",
       "         [-0.0193, -0.2407, -1.4969,  ...,  0.2276,  0.6729, -0.0554],\n",
       "         [-1.8920, -0.0612,  1.4370,  ...,  0.0138,  2.5021, -0.2445],\n",
       "         [-0.2509, -1.0561, -0.6379,  ..., -1.3799,  0.2093, -0.6666]],\n",
       "\n",
       "        [[ 1.7369, -0.1958, -0.3367,  ..., -0.3696,  0.4368,  1.0567],\n",
       "         [-0.4073, -0.4856, -1.2645,  ..., -0.3767, -0.6858, -0.7653],\n",
       "         [-0.7942,  0.6676, -1.5846,  ...,  0.0494,  0.3968, -0.9086],\n",
       "         ...,\n",
       "         [-0.0411, -0.6397, -0.7346,  ...,  0.6948,  0.4007,  0.0789],\n",
       "         [ 0.2524, -0.1987, -1.7653,  ..., -0.6396, -0.9016, -0.1450],\n",
       "         [-0.6719,  0.7240,  0.0705,  ..., -0.5703, -1.0966,  0.2960]],\n",
       "\n",
       "        [[ 1.2406, -1.3707, -0.5772,  ...,  0.6282,  0.7704, -0.0372],\n",
       "         [-0.8885, -0.1007,  1.3540,  ...,  0.6828,  1.7393,  0.7726],\n",
       "         [ 1.0856,  0.7053,  0.7038,  ...,  0.8107, -0.2581,  1.3292],\n",
       "         ...,\n",
       "         [-0.9045, -0.4780,  0.3227,  ..., -1.4036,  1.1419, -0.1683],\n",
       "         [ 1.6424, -0.4607, -0.4544,  ..., -0.5604, -0.9653,  0.2307],\n",
       "         [-0.3322, -1.0136,  0.4246,  ...,  0.9885,  1.1554,  0.4716]]],\n",
       "       device='cuda:0')"
      ]
     },
     "execution_count": 7,
     "metadata": {},
     "output_type": "execute_result"
    }
   ],
   "source": [
    "it = iter(data)\n",
    "next(it)"
   ]
  },
  {
   "cell_type": "code",
   "execution_count": 8,
   "metadata": {},
   "outputs": [
    {
     "data": {
      "text/plain": [
       "torch.Size([4, 512, 4096])"
      ]
     },
     "execution_count": 8,
     "metadata": {},
     "output_type": "execute_result"
    }
   ],
   "source": [
    "batch = next(it)\n",
    "batch.shape"
   ]
  }
 ],
 "metadata": {
  "kernelspec": {
   "display_name": "env",
   "language": "python",
   "name": "python3"
  },
  "language_info": {
   "codemirror_mode": {
    "name": "ipython",
    "version": 3
   },
   "file_extension": ".py",
   "mimetype": "text/x-python",
   "name": "python",
   "nbconvert_exporter": "python",
   "pygments_lexer": "ipython3",
   "version": "3.10.12"
  }
 },
 "nbformat": 4,
 "nbformat_minor": 2
}
