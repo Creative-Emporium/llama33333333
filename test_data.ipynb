{
 "cells": [
  {
   "cell_type": "code",
   "execution_count": 1,
   "metadata": {},
   "outputs": [
    {
     "data": {
      "text/plain": [
       "<__main__.NoiseDataset at 0x7935775c8c70>"
      ]
     },
     "execution_count": 1,
     "metadata": {},
     "output_type": "execute_result"
    }
   ],
   "source": [
    "import torch\n",
    "\n",
    "\n",
    "class NoiseDataset (torch.utils.data.Dataset):\n",
    "\tdef __init__(self, size, shape, std=1):\n",
    "\t\tself.size = size\n",
    "\t\tself.shape = shape\n",
    "\t\tself.std = std\n",
    "\n",
    "\tdef __len__(self):\n",
    "\t\treturn self.size\n",
    "\n",
    "\tdef __getitem__(self, idx):\n",
    "\t\tnoise = torch.randn(*self.shape) * self.std\n",
    "\t\treturn noise\n",
    "\n",
    "\n",
    "ds = NoiseDataset(size=1000, shape=(1, 512, 4096))\n",
    "ds"
   ]
  },
  {
   "cell_type": "code",
   "execution_count": 2,
   "metadata": {},
   "outputs": [
    {
     "data": {
      "text/plain": [
       "<torch.utils.data.dataloader.DataLoader at 0x7935775c9570>"
      ]
     },
     "execution_count": 2,
     "metadata": {},
     "output_type": "execute_result"
    }
   ],
   "source": [
    "data = torch.utils.data.DataLoader(\n",
    "\tds,\n",
    "\tbatch_size=4,\n",
    "\tshuffle=True,\n",
    ")\n",
    "data"
   ]
  },
  {
   "cell_type": "code",
   "execution_count": 3,
   "metadata": {},
   "outputs": [
    {
     "data": {
      "text/plain": [
       "tensor([[[[-0.0177, -1.0808, -0.5270,  ...,  1.9557,  0.7945,  0.4974],\n",
       "          [-0.5479, -1.4242, -0.5986,  ...,  1.8388, -0.3751,  1.7048],\n",
       "          [-0.2313, -0.0939,  0.5880,  ...,  0.6036, -0.1759,  0.4605],\n",
       "          ...,\n",
       "          [ 0.4237, -0.3876,  1.0338,  ...,  0.6288,  1.3421, -0.1455],\n",
       "          [-0.8852,  1.5502,  0.4160,  ...,  0.1220,  0.0962,  0.0829],\n",
       "          [ 1.1737,  0.8761, -1.7042,  ...,  0.2321, -0.8790, -0.1395]]],\n",
       "\n",
       "\n",
       "        [[[-0.7698, -0.9997, -0.4376,  ...,  0.2250,  0.8572, -0.7108],\n",
       "          [ 0.3701,  1.9916,  0.6152,  ...,  0.6213, -1.1659,  1.3759],\n",
       "          [ 1.2544, -0.4553,  1.1180,  ..., -1.9468,  0.8623, -1.7303],\n",
       "          ...,\n",
       "          [ 0.0126, -0.1205,  0.2640,  ...,  0.0855, -1.3783,  0.3905],\n",
       "          [ 0.0414, -1.0547, -0.4063,  ..., -0.6607,  0.2976,  0.6897],\n",
       "          [ 0.2619,  0.2869, -0.5348,  ...,  0.2633, -2.2850,  1.6018]]],\n",
       "\n",
       "\n",
       "        [[[-0.9476,  1.3955,  1.1748,  ..., -1.9321, -0.1916,  0.0208],\n",
       "          [ 0.6304, -0.5248, -0.6371,  ...,  0.6734, -1.9672, -0.8574],\n",
       "          [-0.6227,  0.4297, -0.0579,  ...,  0.7184,  0.9030, -0.5109],\n",
       "          ...,\n",
       "          [-2.8816,  0.6973, -0.9595,  ..., -0.8361, -0.7213, -1.2599],\n",
       "          [ 1.4437,  0.6412,  0.3751,  ..., -0.0968,  0.9245,  1.0945],\n",
       "          [-1.1710, -1.3972, -1.4112,  ..., -0.1061, -0.4406, -0.0784]]],\n",
       "\n",
       "\n",
       "        [[[-0.5231, -3.1740,  1.2157,  ...,  0.9662, -0.8359,  1.5373],\n",
       "          [ 0.0086,  0.0980, -0.9286,  ...,  0.1148, -1.0276,  1.1736],\n",
       "          [-0.9399, -0.9445,  0.7063,  ...,  0.1739, -0.6012,  0.4319],\n",
       "          ...,\n",
       "          [-0.9592, -0.3628,  0.4837,  ...,  0.1306, -0.5310,  0.6903],\n",
       "          [-0.3438,  0.8477,  0.9998,  ...,  0.0548, -1.2784, -1.2664],\n",
       "          [-1.3276, -1.4314,  1.0820,  ..., -1.7146, -0.5829,  0.5290]]]])"
      ]
     },
     "execution_count": 3,
     "metadata": {},
     "output_type": "execute_result"
    }
   ],
   "source": [
    "it = iter(data)\n",
    "next(it)"
   ]
  },
  {
   "cell_type": "code",
   "execution_count": 4,
   "metadata": {},
   "outputs": [
    {
     "data": {
      "text/plain": [
       "torch.Size([4, 1, 512, 4096])"
      ]
     },
     "execution_count": 4,
     "metadata": {},
     "output_type": "execute_result"
    }
   ],
   "source": [
    "batch = next(it)\n",
    "batch.shape"
   ]
  }
 ],
 "metadata": {
  "kernelspec": {
   "display_name": "env",
   "language": "python",
   "name": "python3"
  },
  "language_info": {
   "codemirror_mode": {
    "name": "ipython",
    "version": 3
   },
   "file_extension": ".py",
   "mimetype": "text/x-python",
   "name": "python",
   "nbconvert_exporter": "python",
   "pygments_lexer": "ipython3",
   "version": "3.10.12"
  }
 },
 "nbformat": 4,
 "nbformat_minor": 2
}
